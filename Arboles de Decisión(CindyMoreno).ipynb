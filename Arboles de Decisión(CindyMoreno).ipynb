{
 "cells": [
  {
   "cell_type": "markdown",
   "id": "93c8e47a",
   "metadata": {},
   "source": [
    "# Arboles de decisión (CindyMoreno)"
   ]
  },
  {
   "cell_type": "code",
   "execution_count": 6,
   "id": "8c05d590",
   "metadata": {},
   "outputs": [],
   "source": [
    "#Importamos las librerias \n",
    "import pandas as pd\n",
    "import numpy as np\n",
    "import matplotlib.pyplot as plt\n",
    "from sklearn.model_selection import train_test_split\n",
    "from sklearn.tree import DecisionTreeClassifier, plot_tree\n",
    "from sklearn.metrics import accuracy_score"
   ]
  },
  {
   "cell_type": "code",
   "execution_count": 29,
   "id": "f02c9812",
   "metadata": {},
   "outputs": [
    {
     "data": {
      "text/html": [
       "<div>\n",
       "<style scoped>\n",
       "    .dataframe tbody tr th:only-of-type {\n",
       "        vertical-align: middle;\n",
       "    }\n",
       "\n",
       "    .dataframe tbody tr th {\n",
       "        vertical-align: top;\n",
       "    }\n",
       "\n",
       "    .dataframe thead th {\n",
       "        text-align: right;\n",
       "    }\n",
       "</style>\n",
       "<table border=\"1\" class=\"dataframe\">\n",
       "  <thead>\n",
       "    <tr style=\"text-align: right;\">\n",
       "      <th></th>\n",
       "      <th>clase</th>\n",
       "      <th>Alcohol</th>\n",
       "      <th>Acido Malico</th>\n",
       "      <th>Ceniza</th>\n",
       "      <th>Alcalinidad de la ceniza</th>\n",
       "      <th>magnesio</th>\n",
       "      <th>Fenoles totales</th>\n",
       "      <th>Flavonoides</th>\n",
       "      <th>Fenoles no flavonoides</th>\n",
       "      <th>Proantocianinas</th>\n",
       "      <th>Intensidad olor</th>\n",
       "      <th>Tono</th>\n",
       "      <th>OD280/0D315</th>\n",
       "      <th>Prolina</th>\n",
       "    </tr>\n",
       "  </thead>\n",
       "  <tbody>\n",
       "    <tr>\n",
       "      <th>0</th>\n",
       "      <td>1</td>\n",
       "      <td>13.20</td>\n",
       "      <td>1.78</td>\n",
       "      <td>2.14</td>\n",
       "      <td>11.2</td>\n",
       "      <td>100</td>\n",
       "      <td>2.65</td>\n",
       "      <td>2.76</td>\n",
       "      <td>0.26</td>\n",
       "      <td>1.28</td>\n",
       "      <td>4.38</td>\n",
       "      <td>1.05</td>\n",
       "      <td>3.40</td>\n",
       "      <td>1050</td>\n",
       "    </tr>\n",
       "    <tr>\n",
       "      <th>1</th>\n",
       "      <td>1</td>\n",
       "      <td>13.16</td>\n",
       "      <td>2.36</td>\n",
       "      <td>2.67</td>\n",
       "      <td>18.6</td>\n",
       "      <td>101</td>\n",
       "      <td>2.80</td>\n",
       "      <td>3.24</td>\n",
       "      <td>0.30</td>\n",
       "      <td>2.81</td>\n",
       "      <td>5.68</td>\n",
       "      <td>1.03</td>\n",
       "      <td>3.17</td>\n",
       "      <td>1185</td>\n",
       "    </tr>\n",
       "    <tr>\n",
       "      <th>2</th>\n",
       "      <td>1</td>\n",
       "      <td>14.37</td>\n",
       "      <td>1.95</td>\n",
       "      <td>2.50</td>\n",
       "      <td>16.8</td>\n",
       "      <td>113</td>\n",
       "      <td>3.85</td>\n",
       "      <td>3.49</td>\n",
       "      <td>0.24</td>\n",
       "      <td>2.18</td>\n",
       "      <td>7.80</td>\n",
       "      <td>0.86</td>\n",
       "      <td>3.45</td>\n",
       "      <td>1480</td>\n",
       "    </tr>\n",
       "    <tr>\n",
       "      <th>3</th>\n",
       "      <td>1</td>\n",
       "      <td>13.24</td>\n",
       "      <td>2.59</td>\n",
       "      <td>2.87</td>\n",
       "      <td>21.0</td>\n",
       "      <td>118</td>\n",
       "      <td>2.80</td>\n",
       "      <td>2.69</td>\n",
       "      <td>0.39</td>\n",
       "      <td>1.82</td>\n",
       "      <td>4.32</td>\n",
       "      <td>1.04</td>\n",
       "      <td>2.93</td>\n",
       "      <td>735</td>\n",
       "    </tr>\n",
       "    <tr>\n",
       "      <th>4</th>\n",
       "      <td>1</td>\n",
       "      <td>14.20</td>\n",
       "      <td>1.76</td>\n",
       "      <td>2.45</td>\n",
       "      <td>15.2</td>\n",
       "      <td>112</td>\n",
       "      <td>3.27</td>\n",
       "      <td>3.39</td>\n",
       "      <td>0.34</td>\n",
       "      <td>1.97</td>\n",
       "      <td>6.75</td>\n",
       "      <td>1.05</td>\n",
       "      <td>2.85</td>\n",
       "      <td>1450</td>\n",
       "    </tr>\n",
       "  </tbody>\n",
       "</table>\n",
       "</div>"
      ],
      "text/plain": [
       "   clase  Alcohol  Acido Malico  Ceniza  Alcalinidad de la ceniza  magnesio  \\\n",
       "0      1    13.20          1.78    2.14                      11.2       100   \n",
       "1      1    13.16          2.36    2.67                      18.6       101   \n",
       "2      1    14.37          1.95    2.50                      16.8       113   \n",
       "3      1    13.24          2.59    2.87                      21.0       118   \n",
       "4      1    14.20          1.76    2.45                      15.2       112   \n",
       "\n",
       "   Fenoles totales  Flavonoides  Fenoles no flavonoides  Proantocianinas  \\\n",
       "0             2.65         2.76                    0.26             1.28   \n",
       "1             2.80         3.24                    0.30             2.81   \n",
       "2             3.85         3.49                    0.24             2.18   \n",
       "3             2.80         2.69                    0.39             1.82   \n",
       "4             3.27         3.39                    0.34             1.97   \n",
       "\n",
       "   Intensidad olor  Tono  OD280/0D315  Prolina  \n",
       "0             4.38  1.05         3.40     1050  \n",
       "1             5.68  1.03         3.17     1185  \n",
       "2             7.80  0.86         3.45     1480  \n",
       "3             4.32  1.04         2.93      735  \n",
       "4             6.75  1.05         2.85     1450  "
      ]
     },
     "execution_count": 29,
     "metadata": {},
     "output_type": "execute_result"
    }
   ],
   "source": [
    "data = pd.read_csv(\"../Documents/Analisis de datos Fase 2/Arboles de Decisión/wine.data\")\n",
    "data= data.rename( columns={'1':'clase', '14.23': 'Alcohol', '1.71': 'Acido Malico','2.43': 'Ceniza', '15.6': 'Alcalinidad de la ceniza'\n",
    "    ,'127': 'magnesio','2.8': 'Fenoles totales','3.06': 'Flavonoides', '.28': 'Fenoles no flavonoides', '2.29': 'Proantocianinas',\n",
    "     '5.64': 'Intensidad olor' , '1.04': 'Tono','3.92': 'OD280/0D315',  '1065': 'Prolina'\n",
    "                          })\n",
    "data.head()"
   ]
  },
  {
   "cell_type": "code",
   "execution_count": 30,
   "id": "db8644e0",
   "metadata": {},
   "outputs": [
    {
     "data": {
      "text/plain": [
       "(177, 14)"
      ]
     },
     "execution_count": 30,
     "metadata": {},
     "output_type": "execute_result"
    }
   ],
   "source": [
    "data.shape"
   ]
  },
  {
   "cell_type": "code",
   "execution_count": 31,
   "id": "196054d8",
   "metadata": {},
   "outputs": [
    {
     "data": {
      "text/html": [
       "<div>\n",
       "<style scoped>\n",
       "    .dataframe tbody tr th:only-of-type {\n",
       "        vertical-align: middle;\n",
       "    }\n",
       "\n",
       "    .dataframe tbody tr th {\n",
       "        vertical-align: top;\n",
       "    }\n",
       "\n",
       "    .dataframe thead th {\n",
       "        text-align: right;\n",
       "    }\n",
       "</style>\n",
       "<table border=\"1\" class=\"dataframe\">\n",
       "  <thead>\n",
       "    <tr style=\"text-align: right;\">\n",
       "      <th></th>\n",
       "      <th>clase</th>\n",
       "      <th>Alcohol</th>\n",
       "      <th>Acido Malico</th>\n",
       "      <th>Ceniza</th>\n",
       "      <th>Alcalinidad de la ceniza</th>\n",
       "      <th>magnesio</th>\n",
       "      <th>Fenoles totales</th>\n",
       "      <th>Flavonoides</th>\n",
       "      <th>Fenoles no flavonoides</th>\n",
       "      <th>Proantocianinas</th>\n",
       "      <th>Intensidad olor</th>\n",
       "      <th>Tono</th>\n",
       "      <th>OD280/0D315</th>\n",
       "      <th>Prolina</th>\n",
       "    </tr>\n",
       "  </thead>\n",
       "  <tbody>\n",
       "    <tr>\n",
       "      <th>count</th>\n",
       "      <td>177.000000</td>\n",
       "      <td>177.000000</td>\n",
       "      <td>177.000000</td>\n",
       "      <td>177.000000</td>\n",
       "      <td>177.000000</td>\n",
       "      <td>177.000000</td>\n",
       "      <td>177.000000</td>\n",
       "      <td>177.000000</td>\n",
       "      <td>177.000000</td>\n",
       "      <td>177.000000</td>\n",
       "      <td>177.000000</td>\n",
       "      <td>177.000000</td>\n",
       "      <td>177.000000</td>\n",
       "      <td>177.000000</td>\n",
       "    </tr>\n",
       "    <tr>\n",
       "      <th>mean</th>\n",
       "      <td>1.943503</td>\n",
       "      <td>12.993672</td>\n",
       "      <td>2.339887</td>\n",
       "      <td>2.366158</td>\n",
       "      <td>19.516949</td>\n",
       "      <td>99.587571</td>\n",
       "      <td>2.292260</td>\n",
       "      <td>2.023446</td>\n",
       "      <td>0.362316</td>\n",
       "      <td>1.586949</td>\n",
       "      <td>5.054802</td>\n",
       "      <td>0.956983</td>\n",
       "      <td>2.604294</td>\n",
       "      <td>745.096045</td>\n",
       "    </tr>\n",
       "    <tr>\n",
       "      <th>std</th>\n",
       "      <td>0.773991</td>\n",
       "      <td>0.808808</td>\n",
       "      <td>1.119314</td>\n",
       "      <td>0.275080</td>\n",
       "      <td>3.336071</td>\n",
       "      <td>14.174018</td>\n",
       "      <td>0.626465</td>\n",
       "      <td>0.998658</td>\n",
       "      <td>0.124653</td>\n",
       "      <td>0.571545</td>\n",
       "      <td>2.324446</td>\n",
       "      <td>0.229135</td>\n",
       "      <td>0.705103</td>\n",
       "      <td>314.884046</td>\n",
       "    </tr>\n",
       "    <tr>\n",
       "      <th>min</th>\n",
       "      <td>1.000000</td>\n",
       "      <td>11.030000</td>\n",
       "      <td>0.740000</td>\n",
       "      <td>1.360000</td>\n",
       "      <td>10.600000</td>\n",
       "      <td>70.000000</td>\n",
       "      <td>0.980000</td>\n",
       "      <td>0.340000</td>\n",
       "      <td>0.130000</td>\n",
       "      <td>0.410000</td>\n",
       "      <td>1.280000</td>\n",
       "      <td>0.480000</td>\n",
       "      <td>1.270000</td>\n",
       "      <td>278.000000</td>\n",
       "    </tr>\n",
       "    <tr>\n",
       "      <th>25%</th>\n",
       "      <td>1.000000</td>\n",
       "      <td>12.360000</td>\n",
       "      <td>1.600000</td>\n",
       "      <td>2.210000</td>\n",
       "      <td>17.200000</td>\n",
       "      <td>88.000000</td>\n",
       "      <td>1.740000</td>\n",
       "      <td>1.200000</td>\n",
       "      <td>0.270000</td>\n",
       "      <td>1.250000</td>\n",
       "      <td>3.210000</td>\n",
       "      <td>0.780000</td>\n",
       "      <td>1.930000</td>\n",
       "      <td>500.000000</td>\n",
       "    </tr>\n",
       "    <tr>\n",
       "      <th>50%</th>\n",
       "      <td>2.000000</td>\n",
       "      <td>13.050000</td>\n",
       "      <td>1.870000</td>\n",
       "      <td>2.360000</td>\n",
       "      <td>19.500000</td>\n",
       "      <td>98.000000</td>\n",
       "      <td>2.350000</td>\n",
       "      <td>2.130000</td>\n",
       "      <td>0.340000</td>\n",
       "      <td>1.550000</td>\n",
       "      <td>4.680000</td>\n",
       "      <td>0.960000</td>\n",
       "      <td>2.780000</td>\n",
       "      <td>672.000000</td>\n",
       "    </tr>\n",
       "    <tr>\n",
       "      <th>75%</th>\n",
       "      <td>3.000000</td>\n",
       "      <td>13.670000</td>\n",
       "      <td>3.100000</td>\n",
       "      <td>2.560000</td>\n",
       "      <td>21.500000</td>\n",
       "      <td>107.000000</td>\n",
       "      <td>2.800000</td>\n",
       "      <td>2.860000</td>\n",
       "      <td>0.440000</td>\n",
       "      <td>1.950000</td>\n",
       "      <td>6.200000</td>\n",
       "      <td>1.120000</td>\n",
       "      <td>3.170000</td>\n",
       "      <td>985.000000</td>\n",
       "    </tr>\n",
       "    <tr>\n",
       "      <th>max</th>\n",
       "      <td>3.000000</td>\n",
       "      <td>14.830000</td>\n",
       "      <td>5.800000</td>\n",
       "      <td>3.230000</td>\n",
       "      <td>30.000000</td>\n",
       "      <td>162.000000</td>\n",
       "      <td>3.880000</td>\n",
       "      <td>5.080000</td>\n",
       "      <td>0.660000</td>\n",
       "      <td>3.580000</td>\n",
       "      <td>13.000000</td>\n",
       "      <td>1.710000</td>\n",
       "      <td>4.000000</td>\n",
       "      <td>1680.000000</td>\n",
       "    </tr>\n",
       "  </tbody>\n",
       "</table>\n",
       "</div>"
      ],
      "text/plain": [
       "            clase     Alcohol  Acido Malico      Ceniza  \\\n",
       "count  177.000000  177.000000    177.000000  177.000000   \n",
       "mean     1.943503   12.993672      2.339887    2.366158   \n",
       "std      0.773991    0.808808      1.119314    0.275080   \n",
       "min      1.000000   11.030000      0.740000    1.360000   \n",
       "25%      1.000000   12.360000      1.600000    2.210000   \n",
       "50%      2.000000   13.050000      1.870000    2.360000   \n",
       "75%      3.000000   13.670000      3.100000    2.560000   \n",
       "max      3.000000   14.830000      5.800000    3.230000   \n",
       "\n",
       "       Alcalinidad de la ceniza    magnesio  Fenoles totales  Flavonoides  \\\n",
       "count                177.000000  177.000000       177.000000   177.000000   \n",
       "mean                  19.516949   99.587571         2.292260     2.023446   \n",
       "std                    3.336071   14.174018         0.626465     0.998658   \n",
       "min                   10.600000   70.000000         0.980000     0.340000   \n",
       "25%                   17.200000   88.000000         1.740000     1.200000   \n",
       "50%                   19.500000   98.000000         2.350000     2.130000   \n",
       "75%                   21.500000  107.000000         2.800000     2.860000   \n",
       "max                   30.000000  162.000000         3.880000     5.080000   \n",
       "\n",
       "       Fenoles no flavonoides  Proantocianinas  Intensidad olor        Tono  \\\n",
       "count              177.000000       177.000000       177.000000  177.000000   \n",
       "mean                 0.362316         1.586949         5.054802    0.956983   \n",
       "std                  0.124653         0.571545         2.324446    0.229135   \n",
       "min                  0.130000         0.410000         1.280000    0.480000   \n",
       "25%                  0.270000         1.250000         3.210000    0.780000   \n",
       "50%                  0.340000         1.550000         4.680000    0.960000   \n",
       "75%                  0.440000         1.950000         6.200000    1.120000   \n",
       "max                  0.660000         3.580000        13.000000    1.710000   \n",
       "\n",
       "       OD280/0D315      Prolina  \n",
       "count   177.000000   177.000000  \n",
       "mean      2.604294   745.096045  \n",
       "std       0.705103   314.884046  \n",
       "min       1.270000   278.000000  \n",
       "25%       1.930000   500.000000  \n",
       "50%       2.780000   672.000000  \n",
       "75%       3.170000   985.000000  \n",
       "max       4.000000  1680.000000  "
      ]
     },
     "execution_count": 31,
     "metadata": {},
     "output_type": "execute_result"
    }
   ],
   "source": [
    "data.describe()\n"
   ]
  },
  {
   "cell_type": "code",
   "execution_count": 32,
   "id": "478cbc28",
   "metadata": {},
   "outputs": [
    {
     "data": {
      "text/plain": [
       "(array([58.,  0.,  0.,  0.,  0., 71.,  0.,  0.,  0., 48.]),\n",
       " array([1. , 1.2, 1.4, 1.6, 1.8, 2. , 2.2, 2.4, 2.6, 2.8, 3. ]),\n",
       " <BarContainer object of 10 artists>)"
      ]
     },
     "execution_count": 32,
     "metadata": {},
     "output_type": "execute_result"
    },
    {
     "data": {
      "image/png": "[encoded data removed]",
      "text/plain": [
       "<Figure size 640x480 with 1 Axes>"
      ]
     },
     "metadata": {},
     "output_type": "display_data"
    }
   ],
   "source": [
    "plt.hist(data.clase)"
   ]
  },
  {
   "cell_type": "code",
   "execution_count": 33,
   "id": "933ded24",
   "metadata": {},
   "outputs": [],
   "source": [
    "predictors_col = [\"Ceniza\",\"magnesio\",\"Intensidad olor\",\"Prolina\"]\n",
    "target_col = [\"clase\"]"
   ]
  },
  {
   "cell_type": "code",
   "execution_count": 34,
   "id": "7abc2234",
   "metadata": {},
   "outputs": [],
   "source": [
    "predictors = data[predictors_col]\n",
    "target = data[target_col]"
   ]
  },
  {
   "cell_type": "code",
   "execution_count": 35,
   "id": "53e52f1c",
   "metadata": {},
   "outputs": [],
   "source": [
    "X_train, X_test, y_train, y_test = train_test_split(predictors, target, test_size=0.2, random_state=13)"
   ]
  },
  {
   "cell_type": "code",
   "execution_count": 36,
   "id": "84fb60ae",
   "metadata": {},
   "outputs": [
    {
     "data": {
      "text/plain": [
       "<Figure size 5000x5000 with 0 Axes>"
      ]
     },
     "metadata": {},
     "output_type": "display_data"
    }
   ],
   "source": [
    "fig=plt.figure(figsize=(50,50))\n",
    "tree = DecisionTreeClassifier()\n",
    "arbol = tree.fit(X_train, y_train)"
   ]
  },
  {
   "cell_type": "code",
   "execution_count": 37,
   "id": "d8cd51aa",
   "metadata": {},
   "outputs": [
    {
     "data": {
      "text/plain": [
       "[Text(0.390625, 0.9375, 'x[2] <= 3.82\\ngini = 0.659\\nsamples = 141\\nvalue = [46, 56, 39]'),\n",
       " Text(0.1875, 0.8125, 'x[3] <= 1002.5\\ngini = 0.113\\nsamples = 50\\nvalue = [3, 47, 0]'),\n",
       " Text(0.125, 0.6875, 'x[0] <= 3.07\\ngini = 0.041\\nsamples = 48\\nvalue = [1, 47, 0]'),\n",
       " Text(0.0625, 0.5625, 'gini = 0.0\\nsamples = 47\\nvalue = [0, 47, 0]'),\n",
       " Text(0.1875, 0.5625, 'gini = 0.0\\nsamples = 1\\nvalue = [1, 0, 0]'),\n",
       " Text(0.25, 0.6875, 'gini = 0.0\\nsamples = 2\\nvalue = [2, 0, 0]'),\n",
       " Text(0.59375, 0.8125, 'x[3] <= 882.5\\ngini = 0.583\\nsamples = 91\\nvalue = [43, 9, 39]'),\n",
       " Text(0.53125, 0.6875, 'x[3] <= 517.5\\ngini = 0.421\\nsamples = 53\\nvalue = [5, 9, 39]'),\n",
       " Text(0.3125, 0.5625, 'x[2] <= 6.55\\ngini = 0.444\\nsamples = 12\\nvalue = [0, 8, 4]'),\n",
       " Text(0.25, 0.4375, 'x[3] <= 512.5\\ngini = 0.198\\nsamples = 9\\nvalue = [0, 8, 1]'),\n",
       " Text(0.1875, 0.3125, 'gini = 0.0\\nsamples = 7\\nvalue = [0, 7, 0]'),\n",
       " Text(0.3125, 0.3125, 'x[1] <= 90.5\\ngini = 0.5\\nsamples = 2\\nvalue = [0, 1, 1]'),\n",
       " Text(0.25, 0.1875, 'gini = 0.0\\nsamples = 1\\nvalue = [0, 1, 0]'),\n",
       " Text(0.375, 0.1875, 'gini = 0.0\\nsamples = 1\\nvalue = [0, 0, 1]'),\n",
       " Text(0.375, 0.4375, 'gini = 0.0\\nsamples = 3\\nvalue = [0, 0, 3]'),\n",
       " Text(0.75, 0.5625, 'x[3] <= 730.0\\ngini = 0.256\\nsamples = 41\\nvalue = [5, 1, 35]'),\n",
       " Text(0.625, 0.4375, 'x[0] <= 2.145\\ngini = 0.069\\nsamples = 28\\nvalue = [0, 1, 27]'),\n",
       " Text(0.5625, 0.3125, 'x[3] <= 650.0\\ngini = 0.5\\nsamples = 2\\nvalue = [0, 1, 1]'),\n",
       " Text(0.5, 0.1875, 'gini = 0.0\\nsamples = 1\\nvalue = [0, 0, 1]'),\n",
       " Text(0.625, 0.1875, 'gini = 0.0\\nsamples = 1\\nvalue = [0, 1, 0]'),\n",
       " Text(0.6875, 0.3125, 'gini = 0.0\\nsamples = 26\\nvalue = [0, 0, 26]'),\n",
       " Text(0.875, 0.4375, 'x[2] <= 6.815\\ngini = 0.473\\nsamples = 13\\nvalue = [5, 0, 8]'),\n",
       " Text(0.8125, 0.3125, 'x[0] <= 2.43\\ngini = 0.408\\nsamples = 7\\nvalue = [5, 0, 2]'),\n",
       " Text(0.75, 0.1875, 'x[2] <= 5.865\\ngini = 0.444\\nsamples = 3\\nvalue = [1, 0, 2]'),\n",
       " Text(0.6875, 0.0625, 'gini = 0.0\\nsamples = 2\\nvalue = [0, 0, 2]'),\n",
       " Text(0.8125, 0.0625, 'gini = 0.0\\nsamples = 1\\nvalue = [1, 0, 0]'),\n",
       " Text(0.875, 0.1875, 'gini = 0.0\\nsamples = 4\\nvalue = [4, 0, 0]'),\n",
       " Text(0.9375, 0.3125, 'gini = 0.0\\nsamples = 6\\nvalue = [0, 0, 6]'),\n",
       " Text(0.65625, 0.6875, 'gini = 0.0\\nsamples = 38\\nvalue = [38, 0, 0]')]"
      ]
     },
     "execution_count": 37,
     "metadata": {},
     "output_type": "execute_result"
    },
    {
     "data": {
      "image/png": "[encoded data removed]",
      "text/plain": [
       "<Figure size 640x480 with 1 Axes>"
      ]
     },
     "metadata": {},
     "output_type": "display_data"
    }
   ],
   "source": [
    "plot_tree(arbol)"
   ]
  },
  {
   "cell_type": "code",
   "execution_count": 38,
   "id": "5951d318",
   "metadata": {},
   "outputs": [],
   "source": [
    "predicciones = arbol.predict(X_test)"
   ]
  },
  {
   "cell_type": "code",
   "execution_count": 41,
   "id": "9558b9a7",
   "metadata": {},
   "outputs": [
    {
     "data": {
      "text/html": [
       "<div>\n",
       "<style scoped>\n",
       "    .dataframe tbody tr th:only-of-type {\n",
       "        vertical-align: middle;\n",
       "    }\n",
       "\n",
       "    .dataframe tbody tr th {\n",
       "        vertical-align: top;\n",
       "    }\n",
       "\n",
       "    .dataframe thead th {\n",
       "        text-align: right;\n",
       "    }\n",
       "</style>\n",
       "<table border=\"1\" class=\"dataframe\">\n",
       "  <thead>\n",
       "    <tr style=\"text-align: right;\">\n",
       "      <th>Predicciones</th>\n",
       "      <th>1</th>\n",
       "      <th>2</th>\n",
       "      <th>3</th>\n",
       "    </tr>\n",
       "    <tr>\n",
       "      <th>Actual</th>\n",
       "      <th></th>\n",
       "      <th></th>\n",
       "      <th></th>\n",
       "    </tr>\n",
       "  </thead>\n",
       "  <tbody>\n",
       "    <tr>\n",
       "      <th>1</th>\n",
       "      <td>9</td>\n",
       "      <td>1</td>\n",
       "      <td>2</td>\n",
       "    </tr>\n",
       "    <tr>\n",
       "      <th>2</th>\n",
       "      <td>0</td>\n",
       "      <td>13</td>\n",
       "      <td>2</td>\n",
       "    </tr>\n",
       "    <tr>\n",
       "      <th>3</th>\n",
       "      <td>0</td>\n",
       "      <td>2</td>\n",
       "      <td>7</td>\n",
       "    </tr>\n",
       "  </tbody>\n",
       "</table>\n",
       "</div>"
      ],
      "text/plain": [
       "Predicciones  1   2  3\n",
       "Actual                \n",
       "1             9   1  2\n",
       "2             0  13  2\n",
       "3             0   2  7"
      ]
     },
     "execution_count": 41,
     "metadata": {},
     "output_type": "execute_result"
    }
   ],
   "source": [
    "# Examinamos la matriz de confusión\n",
    "pd.crosstab(np.array([y[0] for y in y_test.values.tolist()]), predicciones, rownames=['Actual'], colnames=['Predicciones'])\n"
   ]
  },
  {
   "cell_type": "code",
   "execution_count": 42,
   "id": "20157fc4",
   "metadata": {},
   "outputs": [
    {
     "data": {
      "text/plain": [
       "0.8055555555555556"
      ]
     },
     "execution_count": 42,
     "metadata": {},
     "output_type": "execute_result"
    }
   ],
   "source": [
    "accuracy = accuracy_score(y_test,predicciones)\n",
    "accuracy"
   ]
  },
  {
   "cell_type": "code",
   "execution_count": null,
   "id": "10b26309",
   "metadata": {},
   "outputs": [],
   "source": []
  }
 ],
 "metadata": {
  "kernelspec": {
   "display_name": "Python 3 (ipykernel)",
   "language": "python",
   "name": "python3"
  },
  "language_info": {
   "codemirror_mode": {
    "name": "ipython",
    "version": 3
   },
   "file_extension": ".py",
   "mimetype": "text/x-python",
   "name": "python",
   "nbconvert_exporter": "python",
   "pygments_lexer": "ipython3",
   "version": "3.11.4"
  }
 },
 "nbformat": 4,
 "nbformat_minor": 5
}
